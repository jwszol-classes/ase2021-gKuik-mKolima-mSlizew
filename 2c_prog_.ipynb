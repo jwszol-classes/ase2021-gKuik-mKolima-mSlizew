{
 "cells": [
  {
   "cell_type": "code",
   "execution_count": 219,
   "id": "ec69eac0",
   "metadata": {},
   "outputs": [
    {
     "data": {
      "application/vnd.jupyter.widget-view+json": {
       "model_id": "6181d9ae3c424834bea6684bebf4730b",
       "version_major": 2,
       "version_minor": 0
      },
      "text/plain": [
       "VBox()"
      ]
     },
     "metadata": {},
     "output_type": "display_data"
    },
    {
     "data": {
      "application/vnd.jupyter.widget-view+json": {
       "model_id": "",
       "version_major": 2,
       "version_minor": 0
      },
      "text/plain": [
       "FloatProgress(value=0.0, bar_style='info', description='Progress:', layout=Layout(height='25px', width='50%'),…"
      ]
     },
     "metadata": {},
     "output_type": "display_data"
    }
   ],
   "source": [
    "from pyspark.sql import SparkSession, functions as F, types\n",
    "\n",
    "paths = [\"s3://nyc-tlc/trip data/g*19-0[5-9].csv\",\"s3://nyc-tlc/trip data/g*19-[1-2][0-9].csv\", \"s3://nyc-tlc/trip data/g*20-0[1-5].csv\"]\n",
    "\n",
    "df_green = (\n",
    "    spark.read.option(\"delimiter\", \",\")\n",
    "    .csv(\n",
    "        paths,\n",
    "        header=True,\n",
    "    )\n",
    "    .select(\"lpep_pickup_datetime\", \"lpep_dropoff_datetime\", \"trip_distance\")\n",
    ")\n",
    "\n",
    "paths = [\"s3://nyc-tlc/trip data/y*19-0[5-9].csv\",\"s3://nyc-tlc/trip data/y*19-[1-2][0-9].csv\", \"s3://nyc-tlc/trip data/y*20-0[1-5].csv\"]\n",
    "\n",
    "df_yellow = (\n",
    "    spark.read.option(\"delimiter\", \",\")\n",
    "    .csv(\n",
    "        paths,\n",
    "        header=True,\n",
    "    )\n",
    "    .select(\"tpep_pickup_datetime\", \"tpep_dropoff_datetime\", \"trip_distance\")\n",
    ")\n",
    "\n"
   ]
  },
  {
   "cell_type": "code",
   "execution_count": 221,
   "id": "b63f96b4",
   "metadata": {},
   "outputs": [
    {
     "data": {
      "application/vnd.jupyter.widget-view+json": {
       "model_id": "8d77e939732141ea9d8d6c1ff9572f74",
       "version_major": 2,
       "version_minor": 0
      },
      "text/plain": [
       "VBox()"
      ]
     },
     "metadata": {},
     "output_type": "display_data"
    },
    {
     "data": {
      "application/vnd.jupyter.widget-view+json": {
       "model_id": "",
       "version_major": 2,
       "version_minor": 0
      },
      "text/plain": [
       "FloatProgress(value=0.0, bar_style='info', description='Progress:', layout=Layout(height='25px', width='50%'),…"
      ]
     },
     "metadata": {},
     "output_type": "display_data"
    }
   ],
   "source": [
    "\n",
    "df_green = df_green.withColumnRenamed(\"lpep_pickup_datetime\", \"pickup_time\").withColumnRenamed(\n",
    "    \"lpep_dropoff_datetime\", \"drop_time\"\n",
    ")\n",
    "\n",
    "df_yellow = df_yellow.withColumnRenamed(\"tpep_pickup_datetime\", \"pickup_time\").withColumnRenamed(\n",
    "    \"tpep_dropoff_datetime\", \"drop_time\"\n",
    ")"
   ]
  },
  {
   "cell_type": "code",
   "execution_count": 222,
   "id": "7cde7cc6",
   "metadata": {},
   "outputs": [
    {
     "data": {
      "application/vnd.jupyter.widget-view+json": {
       "model_id": "d6aaf1676d2d4b87be569626d9cafed3",
       "version_major": 2,
       "version_minor": 0
      },
      "text/plain": [
       "VBox()"
      ]
     },
     "metadata": {},
     "output_type": "display_data"
    },
    {
     "data": {
      "application/vnd.jupyter.widget-view+json": {
       "model_id": "",
       "version_major": 2,
       "version_minor": 0
      },
      "text/plain": [
       "FloatProgress(value=0.0, bar_style='info', description='Progress:', layout=Layout(height='25px', width='50%'),…"
      ]
     },
     "metadata": {},
     "output_type": "display_data"
    },
    {
     "name": "stdout",
     "output_type": "stream",
     "text": [
      "+-------------------+-------------------+-------------+\n",
      "|        pickup_time|          drop_time|trip_distance|\n",
      "+-------------------+-------------------+-------------+\n",
      "|2019-05-01 00:14:50|2019-05-01 00:16:48|          .00|\n",
      "|2019-05-01 00:35:54|2019-05-01 00:37:27|         1.50|\n",
      "|2019-05-01 00:37:45|2019-05-01 00:37:49|         1.50|\n",
      "|2019-05-01 00:44:57|2019-05-01 00:50:11|          .70|\n",
      "|2019-05-01 00:59:48|2019-05-01 01:10:22|         2.00|\n",
      "+-------------------+-------------------+-------------+\n",
      "only showing top 5 rows"
     ]
    }
   ],
   "source": [
    "df_yellow.show(5)"
   ]
  },
  {
   "cell_type": "code",
   "execution_count": 223,
   "id": "c738a6db",
   "metadata": {},
   "outputs": [
    {
     "data": {
      "application/vnd.jupyter.widget-view+json": {
       "model_id": "d85abf012f0049cca9aecafa4ea1b794",
       "version_major": 2,
       "version_minor": 0
      },
      "text/plain": [
       "VBox()"
      ]
     },
     "metadata": {},
     "output_type": "display_data"
    },
    {
     "data": {
      "application/vnd.jupyter.widget-view+json": {
       "model_id": "",
       "version_major": 2,
       "version_minor": 0
      },
      "text/plain": [
       "FloatProgress(value=0.0, bar_style='info', description='Progress:', layout=Layout(height='25px', width='50%'),…"
      ]
     },
     "metadata": {},
     "output_type": "display_data"
    },
    {
     "name": "stdout",
     "output_type": "stream",
     "text": [
      "+-------------------+-------------------+-------------+\n",
      "|        pickup_time|          drop_time|trip_distance|\n",
      "+-------------------+-------------------+-------------+\n",
      "|2019-05-01 00:48:55|2019-05-01 00:55:07|         1.50|\n",
      "|2019-05-01 00:53:04|2019-05-01 01:09:10|         3.56|\n",
      "|2019-05-01 00:34:24|2019-05-01 00:46:36|         2.23|\n",
      "|2019-05-01 00:42:50|2019-05-01 00:49:20|         1.70|\n",
      "|2019-05-01 00:12:53|2019-05-01 00:16:03|          .60|\n",
      "+-------------------+-------------------+-------------+\n",
      "only showing top 5 rows"
     ]
    }
   ],
   "source": [
    "df_green.show(5)"
   ]
  },
  {
   "cell_type": "code",
   "execution_count": null,
   "id": "0c752136",
   "metadata": {},
   "outputs": [],
   "source": [
    "df_yellow = df_yellow.withColumn('color', F.lit('yellow'))\n",
    "df_green = df_green.withColumn('color', F.lit('green'))\n",
    "df = df_green.union(df_yellow)"
   ]
  },
  {
   "cell_type": "code",
   "execution_count": 225,
   "id": "348b5363",
   "metadata": {},
   "outputs": [
    {
     "data": {
      "application/vnd.jupyter.widget-view+json": {
       "model_id": "a3ad32420f44438188dde776287198b2",
       "version_major": 2,
       "version_minor": 0
      },
      "text/plain": [
       "VBox()"
      ]
     },
     "metadata": {},
     "output_type": "display_data"
    },
    {
     "data": {
      "application/vnd.jupyter.widget-view+json": {
       "model_id": "",
       "version_major": 2,
       "version_minor": 0
      },
      "text/plain": [
       "FloatProgress(value=0.0, bar_style='info', description='Progress:', layout=Layout(height='25px', width='50%'),…"
      ]
     },
     "metadata": {},
     "output_type": "display_data"
    },
    {
     "name": "stdout",
     "output_type": "stream",
     "text": [
      "+-------------------+-------------------+-------------+-----+-------------------+\n",
      "|        pickup_time|          drop_time|trip_distance|color|           duration|\n",
      "+-------------------+-------------------+-------------+-----+-------------------+\n",
      "|2019-05-01 00:48:55|2019-05-01 00:55:07|         1.50|green|0.10333333333333333|\n",
      "|2019-05-01 00:53:04|2019-05-01 01:09:10|         3.56|green| 0.2683333333333333|\n",
      "|2019-05-01 00:34:24|2019-05-01 00:46:36|         2.23|green|0.20333333333333334|\n",
      "|2019-05-01 00:42:50|2019-05-01 00:49:20|         1.70|green|0.10833333333333334|\n",
      "|2019-05-01 00:12:53|2019-05-01 00:16:03|          .60|green|0.05277777777777778|\n",
      "+-------------------+-------------------+-------------+-----+-------------------+\n",
      "only showing top 5 rows"
     ]
    }
   ],
   "source": [
    "time_diff = (F.unix_timestamp(\"drop_time\") - F.unix_timestamp(\"pickup_time\")).cast(types.DoubleType()) / 3600\n",
    "df = df.withColumn(\"duration\", time_diff)\n",
    "df.show(5)"
   ]
  },
  {
   "cell_type": "code",
   "execution_count": 226,
   "id": "b4d85cae",
   "metadata": {},
   "outputs": [
    {
     "data": {
      "application/vnd.jupyter.widget-view+json": {
       "model_id": "ceac93bb4df94f9e935e28a43955040d",
       "version_major": 2,
       "version_minor": 0
      },
      "text/plain": [
       "VBox()"
      ]
     },
     "metadata": {},
     "output_type": "display_data"
    },
    {
     "data": {
      "application/vnd.jupyter.widget-view+json": {
       "model_id": "",
       "version_major": 2,
       "version_minor": 0
      },
      "text/plain": [
       "FloatProgress(value=0.0, bar_style='info', description='Progress:', layout=Layout(height='25px', width='50%'),…"
      ]
     },
     "metadata": {},
     "output_type": "display_data"
    },
    {
     "name": "stdout",
     "output_type": "stream",
     "text": [
      "+-------------------+-------------------+-------------+-----+-------------------+------------------+\n",
      "|        pickup_time|          drop_time|trip_distance|color|           duration|          velocity|\n",
      "+-------------------+-------------------+-------------+-----+-------------------+------------------+\n",
      "|2019-05-01 00:48:55|2019-05-01 00:55:07|         1.50|green|0.10333333333333333|14.516129032258064|\n",
      "|2019-05-01 00:53:04|2019-05-01 01:09:10|         3.56|green| 0.2683333333333333|13.267080745341616|\n",
      "|2019-05-01 00:34:24|2019-05-01 00:46:36|         2.23|green|0.20333333333333334|10.967213114754099|\n",
      "|2019-05-01 00:42:50|2019-05-01 00:49:20|         1.70|green|0.10833333333333334|15.692307692307692|\n",
      "|2019-05-01 00:12:53|2019-05-01 00:16:03|          .60|green|0.05277777777777778|11.368421052631579|\n",
      "+-------------------+-------------------+-------------+-----+-------------------+------------------+\n",
      "only showing top 5 rows"
     ]
    }
   ],
   "source": [
    "velocity = (F.col(\"trip_distance\").cast(types.DoubleType()) / F.col(\"Duration\"))\n",
    "df = df.withColumn(\"velocity\", velocity)\n",
    "df.show(5)"
   ]
  },
  {
   "cell_type": "code",
   "execution_count": 227,
   "id": "608797a4",
   "metadata": {},
   "outputs": [
    {
     "data": {
      "application/vnd.jupyter.widget-view+json": {
       "model_id": "39fbb794c6f24f8a81ecc6ae99dd21a4",
       "version_major": 2,
       "version_minor": 0
      },
      "text/plain": [
       "VBox()"
      ]
     },
     "metadata": {},
     "output_type": "display_data"
    },
    {
     "data": {
      "application/vnd.jupyter.widget-view+json": {
       "model_id": "",
       "version_major": 2,
       "version_minor": 0
      },
      "text/plain": [
       "FloatProgress(value=0.0, bar_style='info', description='Progress:', layout=Layout(height='25px', width='50%'),…"
      ]
     },
     "metadata": {},
     "output_type": "display_data"
    },
    {
     "name": "stdout",
     "output_type": "stream",
     "text": [
      "+-------+-------------------+-------------------+-----------------+--------+------------------+-----------------+\n",
      "|summary|        pickup_time|          drop_time|    trip_distance|   color|          duration|         velocity|\n",
      "+-------+-------------------+-------------------+-----------------+--------+------------------+-----------------+\n",
      "|  count|           75628919|           75628919|         75628919|75628919|          75628919|         75555318|\n",
      "|   mean|               null|               null|3.116442897722704|    null|0.3008853979961517|12.93179277342458|\n",
      "| stddev|               null|               null|101.7919148442046|    null|1.5444150721722598|367.1418383341467|\n",
      "|    min|2001-01-01 00:02:08|2001-01-01 01:00:02|             -.01|   green|        -6143.7925|       -113235.96|\n",
      "|    max|2090-12-31 06:41:26|2090-12-31 07:18:49|         99989.95|  yellow| 696.5902777777778|2149584.311688312|\n",
      "+-------+-------------------+-------------------+-----------------+--------+------------------+-----------------+"
     ]
    }
   ],
   "source": [
    "df.describe().show()"
   ]
  },
  {
   "cell_type": "code",
   "execution_count": 228,
   "id": "278fcfe9",
   "metadata": {},
   "outputs": [
    {
     "data": {
      "application/vnd.jupyter.widget-view+json": {
       "model_id": "799945c456664f7cb71e0ef92f48a4ac",
       "version_major": 2,
       "version_minor": 0
      },
      "text/plain": [
       "VBox()"
      ]
     },
     "metadata": {},
     "output_type": "display_data"
    },
    {
     "data": {
      "application/vnd.jupyter.widget-view+json": {
       "model_id": "",
       "version_major": 2,
       "version_minor": 0
      },
      "text/plain": [
       "FloatProgress(value=0.0, bar_style='info', description='Progress:', layout=Layout(height='25px', width='50%'),…"
      ]
     },
     "metadata": {},
     "output_type": "display_data"
    },
    {
     "name": "stdout",
     "output_type": "stream",
     "text": [
      "+-------------------+-------------------+-------------+-----+-------------------+------------------+\n",
      "|        pickup_time|          drop_time|trip_distance|color|           duration|          velocity|\n",
      "+-------------------+-------------------+-------------+-----+-------------------+------------------+\n",
      "|2019-05-01 00:48:55|2019-05-01 00:55:07|         1.50|green|0.10333333333333333|14.516129032258064|\n",
      "|2019-05-01 00:53:04|2019-05-01 01:09:10|         3.56|green| 0.2683333333333333|13.267080745341616|\n",
      "|2019-05-01 00:34:24|2019-05-01 00:46:36|         2.23|green|0.20333333333333334|10.967213114754099|\n",
      "|2019-05-01 00:42:50|2019-05-01 00:49:20|         1.70|green|0.10833333333333334|15.692307692307692|\n",
      "|2019-05-01 00:52:08|2019-05-01 01:10:14|         4.40|green| 0.3016666666666667|14.585635359116022|\n",
      "+-------------------+-------------------+-------------+-----+-------------------+------------------+\n",
      "only showing top 5 rows"
     ]
    }
   ],
   "source": [
    "df = df.filter(df.trip_distance > 0).filter(df.duration > 0)\n",
    "df = df.filter(df.velocity > 0).filter(df.velocity < 300)\n",
    "date_from = \"2019-05-01\"\n",
    "date_to = \"2020-05-31\"\n",
    "df = df.filter(df.pickup_time >= date_from).filter(df.pickup_time <= date_to)\n",
    "df.show(5)"
   ]
  },
  {
   "cell_type": "code",
   "execution_count": 230,
   "id": "ee6c8215",
   "metadata": {},
   "outputs": [
    {
     "data": {
      "application/vnd.jupyter.widget-view+json": {
       "model_id": "f52eb05db18142cd911c0497b3dde1c8",
       "version_major": 2,
       "version_minor": 0
      },
      "text/plain": [
       "VBox()"
      ]
     },
     "metadata": {},
     "output_type": "display_data"
    },
    {
     "data": {
      "application/vnd.jupyter.widget-view+json": {
       "model_id": "",
       "version_major": 2,
       "version_minor": 0
      },
      "text/plain": [
       "FloatProgress(value=0.0, bar_style='info', description='Progress:', layout=Layout(height='25px', width='50%'),…"
      ]
     },
     "metadata": {},
     "output_type": "display_data"
    },
    {
     "name": "stdout",
     "output_type": "stream",
     "text": [
      "Avg velocity over the year:\n",
      "\n",
      "Row(avg(Velocity)=12.33608186158554)"
     ]
    }
   ],
   "source": [
    "print(\"Avg velocity over the year:\\n\")\n",
    "print(df.groupBy().avg(\"Velocity\").collect()[0])"
   ]
  },
  {
   "cell_type": "code",
   "execution_count": 231,
   "id": "90ffe71f",
   "metadata": {},
   "outputs": [
    {
     "data": {
      "application/vnd.jupyter.widget-view+json": {
       "model_id": "d3a95182447d4bb2bbb1e19d36e926a5",
       "version_major": 2,
       "version_minor": 0
      },
      "text/plain": [
       "VBox()"
      ]
     },
     "metadata": {},
     "output_type": "display_data"
    },
    {
     "data": {
      "application/vnd.jupyter.widget-view+json": {
       "model_id": "",
       "version_major": 2,
       "version_minor": 0
      },
      "text/plain": [
       "FloatProgress(value=0.0, bar_style='info', description='Progress:', layout=Layout(height='25px', width='50%'),…"
      ]
     },
     "metadata": {},
     "output_type": "display_data"
    }
   ],
   "source": [
    "\n",
    "df_by_month  = (df\n",
    "    .groupBy([df['color'],F.year(\"pickup_time\").alias('year'),F.month(\"pickup_time\").alias(\"month\")])\n",
    "    .agg(F.avg(\"velocity\").alias('avg_velocity')))\n"
   ]
  },
  {
   "cell_type": "code",
   "execution_count": 232,
   "id": "08d09272",
   "metadata": {},
   "outputs": [
    {
     "data": {
      "application/vnd.jupyter.widget-view+json": {
       "model_id": "d7b74e6bde7340e8a7baa730f627d991",
       "version_major": 2,
       "version_minor": 0
      },
      "text/plain": [
       "VBox()"
      ]
     },
     "metadata": {},
     "output_type": "display_data"
    },
    {
     "data": {
      "application/vnd.jupyter.widget-view+json": {
       "model_id": "",
       "version_major": 2,
       "version_minor": 0
      },
      "text/plain": [
       "FloatProgress(value=0.0, bar_style='info', description='Progress:', layout=Layout(height='25px', width='50%'),…"
      ]
     },
     "metadata": {},
     "output_type": "display_data"
    },
    {
     "name": "stdout",
     "output_type": "stream",
     "text": [
      "+------+----+-----+------------------+\n",
      "| color|year|month|      avg_velocity|\n",
      "+------+----+-----+------------------+\n",
      "| green|2020|    2| 13.39867275420931|\n",
      "| green|2019|    8|13.310031430596654|\n",
      "| green|2020|    5|18.577469721581693|\n",
      "|yellow|2020|    5|17.920369720321972|\n",
      "|yellow|2020|    3|13.106150196880956|\n",
      "| green|2019|    5|12.167000145675736|\n",
      "|yellow|2019|    8|12.824804092059969|\n",
      "| green|2020|    1| 13.75419046325859|\n",
      "| green|2019|   11|12.792146785793038|\n",
      "|yellow|2019|    7|12.560581839512754|\n",
      "| green|2019|   12|12.845925578358438|\n",
      "|yellow|2020|    1| 12.83425328739818|\n",
      "|yellow|2019|   12|11.941183153652679|\n",
      "|yellow|2020|    2|12.315510928297394|\n",
      "| green|2019|    9|12.861671168939269|\n",
      "| green|2019|    7|13.021629891169196|\n",
      "| green|2019|   10|12.778394893666553|\n",
      "|yellow|2020|    4| 18.10060625345453|\n",
      "| green|2019|    6|12.252232750529526|\n",
      "|yellow|2019|   11| 11.80506435133364|\n",
      "+------+----+-----+------------------+\n",
      "only showing top 20 rows"
     ]
    }
   ],
   "source": [
    "df_by_month.show()"
   ]
  },
  {
   "cell_type": "code",
   "execution_count": 233,
   "id": "a254fc3d",
   "metadata": {},
   "outputs": [
    {
     "data": {
      "application/vnd.jupyter.widget-view+json": {
       "model_id": "f382dc2bdb984fe58698ea61777dd4e8",
       "version_major": 2,
       "version_minor": 0
      },
      "text/plain": [
       "VBox()"
      ]
     },
     "metadata": {},
     "output_type": "display_data"
    },
    {
     "data": {
      "application/vnd.jupyter.widget-view+json": {
       "model_id": "",
       "version_major": 2,
       "version_minor": 0
      },
      "text/plain": [
       "FloatProgress(value=0.0, bar_style='info', description='Progress:', layout=Layout(height='25px', width='50%'),…"
      ]
     },
     "metadata": {},
     "output_type": "display_data"
    },
    {
     "name": "stdout",
     "output_type": "stream",
     "text": [
      "26"
     ]
    }
   ],
   "source": [
    "n = df_by_month.count()\n",
    "print(n)\n",
    "rows = df_by_month.take(n)"
   ]
  },
  {
   "cell_type": "code",
   "execution_count": 253,
   "id": "fd2df2b7",
   "metadata": {},
   "outputs": [
    {
     "data": {
      "application/vnd.jupyter.widget-view+json": {
       "model_id": "1ab4ca9f496d4496afeb00e82e25dcde",
       "version_major": 2,
       "version_minor": 0
      },
      "text/plain": [
       "VBox()"
      ]
     },
     "metadata": {},
     "output_type": "display_data"
    },
    {
     "data": {
      "application/vnd.jupyter.widget-view+json": {
       "model_id": "",
       "version_major": 2,
       "version_minor": 0
      },
      "text/plain": [
       "FloatProgress(value=0.0, bar_style='info', description='Progress:', layout=Layout(height='25px', width='50%'),…"
      ]
     },
     "metadata": {},
     "output_type": "display_data"
    },
    {
     "data": {
      "image/png": "[encoded data removed]",
      "text/plain": [
       "<IPython.core.display.Image object>"
      ]
     },
     "metadata": {},
     "output_type": "display_data"
    }
   ],
   "source": [
    "import matplotlib.pyplot as plt\n",
    "from matplotlib.dates import date2num\n",
    "import datetime\n",
    "\n",
    "dates_yellow,dates_green = [],[]\n",
    "means_yellow, means_green = [],[]\n",
    "for row in rows:\n",
    "    if row.color == 'yellow':\n",
    "        dates_yellow.append(datetime.datetime(row.year, row.month,1))\n",
    "        means_yellow.append(row.avg_velocity)\n",
    "    else:\n",
    "        dates_green.append(datetime.datetime(row.year, row.month,1))\n",
    "        means_green.append(row.avg_velocity)\n",
    "\n",
    "\n",
    "fig,ax = plt.subplots()\n",
    "dates_yellow = date2num(dates_yellow)\n",
    "dates_green = date2num(dates_green)\n",
    "ax.bar(dates_yellow-6, means_yellow, width=12, color='y', align='center',  label = 'avg velocity per month- yellow taxi')\n",
    "ax.bar(dates_green+6, means_green, width=12, color='g', align='center',  label = 'avg velocity per month - green taxi')\n",
    "import matplotlib.dates as mdates\n",
    "myFmt = mdates.DateFormatter('%y%y - %b')\n",
    "ax.xaxis.set_major_formatter(myFmt)\n",
    "plt.legend()\n",
    "\n",
    "plt.xticks(rotation=20)\n",
    "%matplot plt\n"
   ]
  },
  {
   "cell_type": "code",
   "execution_count": 254,
   "id": "19ddef4f",
   "metadata": {},
   "outputs": [
    {
     "data": {
      "application/vnd.jupyter.widget-view+json": {
       "model_id": "69ec3e7d24914c1da10c9d48601819b7",
       "version_major": 2,
       "version_minor": 0
      },
      "text/plain": [
       "VBox()"
      ]
     },
     "metadata": {},
     "output_type": "display_data"
    },
    {
     "data": {
      "application/vnd.jupyter.widget-view+json": {
       "model_id": "",
       "version_major": 2,
       "version_minor": 0
      },
      "text/plain": [
       "FloatProgress(value=0.0, bar_style='info', description='Progress:', layout=Layout(height='25px', width='50%'),…"
      ]
     },
     "metadata": {},
     "output_type": "display_data"
    },
    {
     "name": "stdout",
     "output_type": "stream",
     "text": [
      "+-----+----------+------------------+\n",
      "|color|basic_date|      avg_velocity|\n",
      "+-----+----------+------------------+\n",
      "|green|2019-10-09|13.979639605060786|\n",
      "|green|2019-11-13|12.176458117372079|\n",
      "|green|2019-10-27|14.449962195356601|\n",
      "|green|2019-10-30| 12.45459184559946|\n",
      "|green|2020-03-06| 12.01114870462135|\n",
      "+-----+----------+------------------+\n",
      "only showing top 5 rows"
     ]
    }
   ],
   "source": [
    "df_by_day = df.withColumn(\"basic_date\", F.to_date(F.col(\"pickup_time\")))\n",
    "df_by_day = (df_by_day\n",
    "    .groupBy([df_by_day['color'],df_by_day['basic_date']])\n",
    "    .agg(F.avg(\"velocity\").alias('avg_velocity')))\n",
    "df_by_day.show(5)"
   ]
  },
  {
   "cell_type": "code",
   "execution_count": 256,
   "id": "51d5dc2a",
   "metadata": {},
   "outputs": [
    {
     "data": {
      "application/vnd.jupyter.widget-view+json": {
       "model_id": "1e937cff04e44de19135ca003a5da784",
       "version_major": 2,
       "version_minor": 0
      },
      "text/plain": [
       "VBox()"
      ]
     },
     "metadata": {},
     "output_type": "display_data"
    },
    {
     "data": {
      "application/vnd.jupyter.widget-view+json": {
       "model_id": "",
       "version_major": 2,
       "version_minor": 0
      },
      "text/plain": [
       "FloatProgress(value=0.0, bar_style='info', description='Progress:', layout=Layout(height='25px', width='50%'),…"
      ]
     },
     "metadata": {},
     "output_type": "display_data"
    },
    {
     "name": "stdout",
     "output_type": "stream",
     "text": [
      "792"
     ]
    }
   ],
   "source": [
    "n = df_by_day.count()\n",
    "print(n)\n",
    "rows = df_by_day.take(n)"
   ]
  },
  {
   "cell_type": "code",
   "execution_count": 257,
   "id": "214f8b71",
   "metadata": {},
   "outputs": [
    {
     "data": {
      "application/vnd.jupyter.widget-view+json": {
       "model_id": "c78ec8c419034a59804fd913bcc5d29b",
       "version_major": 2,
       "version_minor": 0
      },
      "text/plain": [
       "VBox()"
      ]
     },
     "metadata": {},
     "output_type": "display_data"
    },
    {
     "data": {
      "application/vnd.jupyter.widget-view+json": {
       "model_id": "",
       "version_major": 2,
       "version_minor": 0
      },
      "text/plain": [
       "FloatProgress(value=0.0, bar_style='info', description='Progress:', layout=Layout(height='25px', width='50%'),…"
      ]
     },
     "metadata": {},
     "output_type": "display_data"
    },
    {
     "data": {
      "image/png": "[encoded data removed]",
      "text/plain": [
       "<IPython.core.display.Image object>"
      ]
     },
     "metadata": {},
     "output_type": "display_data"
    }
   ],
   "source": [
    "yellow_data, green_data = [],[]\n",
    "\n",
    "for row in rows:\n",
    "    if row.color == 'yellow':\n",
    "        yellow_data.append((row.basic_date,row.avg_velocity))\n",
    "    else:\n",
    "        green_data.append((row.basic_date,row.avg_velocity))\n",
    "yellow_data = sorted(yellow_data, key = lambda x: x[0])\n",
    "green_data = sorted(green_data, key = lambda x: x[0])\n",
    "dates_yellow, means_yellow = list(zip(*yellow_data))\n",
    "dates_green, means_green = list(zip(*green_data))\n",
    "fig, ax = plt.subplots()\n",
    "ax.plot(dates_yellow, means_yellow, 'y', label = 'avg velocity per day - yellow taxi')\n",
    "ax.plot(dates_green, means_green, 'g', label = 'avg velocity per day - green taxi')\n",
    "plt.legend()\n",
    "plt.xticks(rotation=15)\n",
    "%matplot plt\n",
    "    "
   ]
  }
 ],
 "metadata": {
  "kernelspec": {
   "display_name": "PySpark",
   "language": "",
   "name": "pysparkkernel"
  },
  "language_info": {
   "codemirror_mode": {
    "name": "python",
    "version": 3
   },
   "mimetype": "text/x-python",
   "name": "pyspark",
   "pygments_lexer": "python3"
  }
 },
 "nbformat": 4,
 "nbformat_minor": 5
}
